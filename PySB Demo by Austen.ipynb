{
 "cells": [
  {
   "cell_type": "code",
   "execution_count": 11,
   "metadata": {
    "collapsed": false,
    "scrolled": true
   },
   "outputs": [
    {
     "name": "stdout",
     "output_type": "stream",
     "text": [
      "Hello PySB! (i.e. hello world) A simple model with a reversible binding rule.\n",
      "(This is the example shown on the pysb.org home page.)\n",
      "\n",
      "Simulating...\n"
     ]
    },
    {
     "data": {
      "image/png": "[encoded data removed]",
      "text/plain": [
       "<matplotlib.figure.Figure at 0xbcabed0>"
      ]
     },
     "metadata": {},
     "output_type": "display_data"
    }
   ],
   "source": [
    "\"\"\"Hello PySB! (i.e. hello world) A simple model with a reversible binding rule.\n",
    "(This is the example shown on the pysb.org home page.)\n",
    "\"\"\"\n",
    "\n",
    "from __future__ import print_function\n",
    "from pysb import *\n",
    "\n",
    "Model()\n",
    "\n",
    "# Declare the molecules of interest\n",
    "Monomer('A', ['s'])\n",
    "Monomer('B', ['s'])\n",
    "\n",
    "# Declare the parameters, kf = forward rate constant, kr = reverse rate constant\n",
    "Parameter('A_0', 100)\n",
    "Parameter('B_0', 200)\n",
    "Parameter('kf', 1e-3)\n",
    "Parameter('kr', 1e-3)\n",
    "\n",
    "# Declare the initial conditions\n",
    "Initial(A(s=None), A_0)\n",
    "Initial(B(s=None), B_0)\n",
    "\n",
    "# Declare the binding rule\n",
    "Rule('A_binds_B', A(s=None) + B(s=None) != A(s=1) % B(s=1), kf, kr)\n",
    "\n",
    "# Observe the complex\n",
    "Observable('AB', A(s=1) % B(s=1))\n",
    "\n",
    "if __name__ == '__main__':\n",
    "    from numpy import linspace\n",
    "    from matplotlib.pyplot import plot, xlabel, ylabel, show\n",
    "    from pysb.simulator import ScipyOdeSimulator\n",
    "    print(__doc__)\n",
    "    # Simulate the model through 40 seconds\n",
    "    time = linspace(0, 40, 100)\n",
    "    print(\"Simulating...\")\n",
    "    x = ScipyOdeSimulator(model).run(tspan=time).all\n",
    "    # Plot the trajectory of LR\n",
    "    plot(time, x['AB'])\n",
    "    xlabel('Time (seconds)')\n",
    "    ylabel('Amount of AB Product')\n",
    "    show()"
   ]
  }
 ],
 "metadata": {
  "anaconda-cloud": {},
  "kernelspec": {
   "display_name": "Python [default]",
   "language": "python",
   "name": "python3"
  },
  "language_info": {
   "codemirror_mode": {
    "name": "ipython",
    "version": 3
   },
   "file_extension": ".py",
   "mimetype": "text/x-python",
   "name": "python",
   "nbconvert_exporter": "python",
   "pygments_lexer": "ipython3",
   "version": "3.5.2"
  }
 },
 "nbformat": 4,
 "nbformat_minor": 1
}
